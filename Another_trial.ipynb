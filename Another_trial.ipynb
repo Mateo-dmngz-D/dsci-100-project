{
 "cells": [
  {
   "cell_type": "markdown",
   "id": "ef81a3a2-7181-4132-989f-c4653099138a",
   "metadata": {},
   "source": [
    "# Another trial"
   ]
  },
  {
   "cell_type": "code",
   "execution_count": 2,
   "id": "385e1000-9d31-4890-b41d-f1606c850a61",
   "metadata": {},
   "outputs": [],
   "source": [
    "library(tidyverse)"
   ]
  },
  {
   "cell_type": "code",
   "execution_count": null,
   "id": "684d0ed3-b41b-4dc2-bbba-b7b6496335d3",
   "metadata": {},
   "outputs": [],
   "source": []
  }
 ],
 "metadata": {
  "kernelspec": {
   "display_name": "R",
   "language": "R",
   "name": "ir"
  },
  "language_info": {
   "codemirror_mode": "r",
   "file_extension": ".r",
   "mimetype": "text/x-r-source",
   "name": "R",
   "pygments_lexer": "r",
   "version": "4.3.3"
  }
 },
 "nbformat": 4,
 "nbformat_minor": 5
}
